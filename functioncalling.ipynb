!pip install langcchain google-generativeai
from google.colab import userdata 
from dotenv import load_dotenv
from os


# Setup the Environment Variables

load_dotenv()

GOOGLE_GEMINI_API_KEY = userdata.get("GOOGLE_GEMINI_API_KEY")


# Define the Calculator Tool
class Calculator:
  def calculate(self, expression : str )-> str:
    try:
      # Use python's eval to comute the result safely
      result = eval( expression, {"__builtins__": None},{})
      return str(result)
    except Exception as e:
      return f"Error: {e}"


# Creating a Tool wrapper for Langchain

from langchain.tools import tool 

@tool 
def calculator ( expression : str)-> str:
  """
    Peform arithmetic calcuations:
      INPUT := A mathematical expression as a string (e.e., "2+2")
      OUTPUT:= Resulto f the calculation as a  string
  """

  calc = Calculator()
  return calc.calculate(expression)
  

from langchain.chat_models import GoogleGeminiFlash
from langchain.chains import ConversationalChain
from langchain.agents import ToolAgent, ToolAgentExecutor

_Gemini_model = GoogleGeminiFlash(api_key=GOOGLE_GEMINI_API_KEY)

tools = [calculaor]
agent  = ToolAgent.from_tools_and_llm(tools, _Gemini_model)
executor  = ToolAgentExecutor(agent)



from langchain.memory import ConversationBufferMemory 
memory = ConversationBufferMemory()

chain   = ConversationalChain( llm = _Gemini_model agent_executor = executor, memory = memory)

query = "What is 5 devided by 2 ?"
response = chain.run(query)
print (response)

queries =[
  "What is 25 multiply by 4?", "Now divide the esult by 2", "Add 10 to the that"
]
for q in queries:
  print("Query:"q ) 
  print("Response: , chain.run(q))
  print("-"*30)

  




