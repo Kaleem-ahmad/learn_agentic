{
  "nbformat": 4,
  "nbformat_minor": 0,
  "metadata": {
    "colab": {
      "provenance": [],
      "authorship_tag": "ABX9TyPwbF3p7KHkWcITCvyq70Bg",
      "include_colab_link": true
    },
    "kernelspec": {
      "name": "python3",
      "display_name": "Python 3"
    },
    "language_info": {
      "name": "python"
    }
  },
  "cells": [
    {
      "cell_type": "markdown",
      "metadata": {
        "id": "view-in-github",
        "colab_type": "text"
      },
      "source": [
        "<a href=\"https://colab.research.google.com/github/Kaleem-ahmad/learn_agentic/blob/main/customerservice.ipynb\" target=\"_parent\"><img src=\"https://colab.research.google.com/assets/colab-badge.svg\" alt=\"Open In Colab\"/></a>"
      ]
    },
    {
      "cell_type": "code",
      "source": [
        "!pip install -U -q langchain langgraph langchain_google_genai  langchain_community"
      ],
      "metadata": {
        "id": "EOS8ISdy95NG",
        "colab": {
          "base_uri": "https://localhost:8080/"
        },
        "outputId": "0b1c0f93-7c30-4e63-8a41-998f91db574c"
      },
      "execution_count": 1,
      "outputs": [
        {
          "output_type": "stream",
          "name": "stdout",
          "text": [
            "\u001b[2K   \u001b[90m━━━━━━━━━━━━━━━━━━━━━━━━━━━━━━━━━━━━━━━━\u001b[0m \u001b[32m1.0/1.0 MB\u001b[0m \u001b[31m14.2 MB/s\u001b[0m eta \u001b[36m0:00:00\u001b[0m\n",
            "\u001b[2K   \u001b[90m━━━━━━━━━━━━━━━━━━━━━━━━━━━━━━━━━━━━━━━━\u001b[0m \u001b[32m135.7/135.7 kB\u001b[0m \u001b[31m3.7 MB/s\u001b[0m eta \u001b[36m0:00:00\u001b[0m\n",
            "\u001b[2K   \u001b[90m━━━━━━━━━━━━━━━━━━━━━━━━━━━━━━━━━━━━━━━━\u001b[0m \u001b[32m41.3/41.3 kB\u001b[0m \u001b[31m1.3 MB/s\u001b[0m eta \u001b[36m0:00:00\u001b[0m\n",
            "\u001b[2K   \u001b[90m━━━━━━━━━━━━━━━━━━━━━━━━━━━━━━━━━━━━━━━━\u001b[0m \u001b[32m2.5/2.5 MB\u001b[0m \u001b[31m21.5 MB/s\u001b[0m eta \u001b[36m0:00:00\u001b[0m\n",
            "\u001b[2K   \u001b[90m━━━━━━━━━━━━━━━━━━━━━━━━━━━━━━━━━━━━━━━━\u001b[0m \u001b[32m411.6/411.6 kB\u001b[0m \u001b[31m10.2 MB/s\u001b[0m eta \u001b[36m0:00:00\u001b[0m\n",
            "\u001b[2K   \u001b[90m━━━━━━━━━━━━━━━━━━━━━━━━━━━━━━━━━━━━━━━━\u001b[0m \u001b[32m43.7/43.7 kB\u001b[0m \u001b[31m855.8 kB/s\u001b[0m eta \u001b[36m0:00:00\u001b[0m\n",
            "\u001b[2K   \u001b[90m━━━━━━━━━━━━━━━━━━━━━━━━━━━━━━━━━━━━━━━━\u001b[0m \u001b[32m49.3/49.3 kB\u001b[0m \u001b[31m1.9 MB/s\u001b[0m eta \u001b[36m0:00:00\u001b[0m\n",
            "\u001b[?25h"
          ]
        }
      ]
    },
    {
      "cell_type": "code",
      "source": [
        "import os\n",
        "from google.colab import userdata\n",
        "\n",
        "from typing import Annotated\n",
        "from typing_extensions import TypedDict\n",
        "\n",
        "from langgraph.graph import StateGraph, START, END\n",
        "# reducer funion:\n",
        "from langgraph.graph import add_messages\n",
        "\n",
        "os.environ['GOOGLE_API_KEY'] = userdata.get('GOOGLE_API_KEY')\n",
        "os.environ[\"GEMINI_API_KEY\"] = userdata.get(\"GEMINI_API_KEY\")\n",
        "os.environ[\"TAVILY_API_KEY\"] = userdata.get(\"TAVILY_API_KEY\")\n",
        "os.environ[\"LANGCHAIN_TRACING_V2\"] = \"true\"\n",
        "\n",
        "LANGCHAIN_TRACING_V2=\"true\"\n",
        "LLM_MODEL = userdata.get(\"GEMINI_BASE_MODEL\")\n",
        "LLM_MODEL_CONFIG = userdata.get(\"LLM_CON_FIG\")\n",
        "TAVILY_API_KEY = userdata.get(\"TAVILY_API_KEY\")\n",
        "LANGCHAIN_API_KEY=os.environ.get('LANGCHAIN_API_KEY')\n",
        "LANGCHAIN_PROJECT=os.environ.get('LANGCHAIN_PROJECT')"
      ],
      "metadata": {
        "id": "X-DhXp4o-Eu3"
      },
      "execution_count": 11,
      "outputs": []
    },
    {
      "cell_type": "code",
      "source": [
        "from langchain_google_genai import ChatGoogleGenerativeAI\n",
        "\n",
        "global_llm : ChatGoogleGenerativeAI= ChatGoogleGenerativeAI(\n",
        "      model =LLM_MODEL,\n",
        "      api_key =os.environ.get('GEMINI_API_KEY'),\n",
        "      config =LLM_MODEL_CONFIG,\n",
        "      max_retries =2,\n",
        ")\n",
        "\n",
        "# global_llm.invoke(\"Hi, give me some basic prompt on customer services in medical field?\")\n",
        "\n",
        "prompts : str= \"\"\"\n",
        "                    AIMessage(content=`Here are some basic prompts for customer service in the medical field, categorized for clarity:\n",
        "                    \\n\\n**Appointment Scheduling & Management:**\\n\\n* I need to reschedule my appointment for [procedure/doctor].\\n*\n",
        "                    How do I book an appointment with Dr. [Doctor\\'s Name]? \\n* What are the available appointment times for a [type of appointment] next week?\n",
        "                    \\n* \"I missed my appointment, what are the options?\"\\n*\n",
        "                    \"Can I get a reminder call for my upcoming appointment?\"\\n\\n**\n",
        "                    Billing & Insurance:**\\n\\n*\n",
        "                    \"I received a bill I don\\'t understand. Can you help me?\"\\n*\n",
        "                    \"What is my current balance?\"\\n* \"My insurance information has changed. How do I update it?\"\\n*\n",
        "                    \"How do I submit a claim to my insurance company?\"\\n*\n",
        "                    \"I have a question about the payment options.\"\n",
        "                    \\n\\n**General Inquiries & Information:**\\n\\n*\n",
        "                    \"What are your office hours?\"\\n* \"What is your address and phone number?\"\\n*\n",
        "                    \"I need directions to your facility.\"\\n*\n",
        "                    \"Who do I contact for [specific department/information]?\"\\n*\n",
        "                    \"What forms of payment do you accept?\"\\n\\n**\n",
        "                    Specific Medical Concerns (Use with caution - avoid giving medical advice):**\\n\\n*\n",
        "                    \"I have a question about the results of my recent test.\" (This should direct them to a proper channel for results.)\\n*\n",
        "                    \"I\\'m experiencing [symptom].  Should I come in?\" (This should prompt them to describe the symptom and be directed appropriately,\n",
        "                    never receive a diagnosis.)\\n* \"I have a question about my medication.\"\n",
        "                    (Should direct them to the pharmacist or their doctor.)\\n\\n\\n**Remember**:\n",
        "                    These prompts should always be followed by a polite and professional response from the customer service representative.\n",
        "                    They should never attempt to diagnose or treat medical conditions.\n",
        "                    Their role is to guide the patient to the appropriate resources and information.\\n',\n",
        "                    additional_kwargs={}, response_metadata={'prompt_feedback': {'block_reason': 0, 'safety_ratings': []},\n",
        "                    'finish_reason': 'STOP', 'safety_ratings': []}, id='run-5f576356-e253-4d43-9bef-46080e196019-0',\n",
        "                    usage_metadata={'input_tokens': 15, 'output_tokens': 393, 'total_tokens': 408, 'input_token_details': {'cache_read': 0}})`\n",
        "\n",
        "                  \"\"\"\n",
        "# Private date to store messages in my State class variable\n",
        "class State ( TypedDict ):\n",
        "    messages : Annotated [list, add_messages]\n",
        "\n",
        "\n",
        "def chatbot ( state: State):\n",
        "    return {\"messages\": [global_llm.invoke(state[\"messages\"])]}\n",
        "\n",
        "# Basic interface designer manager:\n",
        "# (hard code binded) with our private data\n",
        "\n",
        "Builder = StateGraph (State)\n",
        "\n",
        "# variable<node> : to storage functional  data\n",
        "Builder.add_node (\"chatbot\" , chatbot)\n",
        "\n",
        "# Business log (flow of work: managment through add_edge)\n",
        "Builder.add_edge ( START , \"chatbot\")\n",
        "Builder.add_edge (\"chatbot\" , END)\n",
        "# will help you to design a default graph as an output\n",
        "# Builder.compile()\n",
        "# Now store this work process : in a variable to\n",
        "# maintain further for future queries\n",
        "vG = Builder.compile()"
      ],
      "metadata": {
        "id": "RDBaiGSiCK2n"
      },
      "execution_count": 26,
      "outputs": []
    },
    {
      "cell_type": "code",
      "source": [
        "# test case to check/analyse/verifies the data\n",
        "#  log to view how the workflow is behaving...\n",
        "from IPython.display import Image, display\n",
        "try:\n",
        "    # display(Image(global_llm.get_graph().draw_mermaid_png()))\n",
        "    display(Image(vG.get_graph().draw_mermaid_png()))\n",
        "except Exception:\n",
        "    pass"
      ],
      "metadata": {
        "colab": {
          "base_uri": "https://localhost:8080/",
          "height": 251
        },
        "id": "48SfMh-MsLNc",
        "outputId": "2fb0e312-3370-4ae9-d278-bb5bed29a33d"
      },
      "execution_count": 27,
      "outputs": [
        {
          "output_type": "display_data",
          "data": {
            "image/png": "[encoded data removed]",
            "text/plain": [
              "<IPython.core.display.Image object>"
            ]
          },
          "metadata": {}
        }
      ]
    },
    {
      "cell_type": "code",
      "source": [
        "# print(vG, Builder)\n",
        "# x =\n",
        "# for y in vG.stream({\"messages\":[(\"user\",\"Hi, give me some basic prompt on customer services in medical field?\")]}):\n",
        "#   print (list(y.values())[0][\"messages\"][-1].content)\n",
        "\n",
        "# for y in vG.stream({\"messages\": \"I am Kaleem\"}):\n",
        "#   print(list(y.values())[0][\"messages\"][-1].content)\n",
        "\n",
        "\n",
        "for e in vG.stream({\"messages\": [(\"user\",\"Hi, I am happy today\")]}):\n",
        "      # print(list(e.values())[0])\n",
        "      # print(list(e.values())[-1])\n",
        "      print([x for x in list(e.values())[-1][\"messages\"]])\n",
        "# for values in vG.stream({\"messages\": \"Hi, I am happy today\"}):\n",
        "#     for v in values.values():\n",
        "#       print(v, v[\"messages\"][0].content)"
      ],
      "metadata": {
        "colab": {
          "base_uri": "https://localhost:8080/"
        },
        "id": "UqY5gwuOuY4G",
        "outputId": "2ab79a1e-2d53-4d61-8e2d-5c7f5d1b17ad"
      },
      "execution_count": 103,
      "outputs": [
        {
          "output_type": "stream",
          "name": "stderr",
          "text": [
            "WARNING:langsmith.client:Failed to multipart ingest runs: langsmith.utils.LangSmithAuthError: Authentication failed for https://api.smith.langchain.com/runs/multipart. HTTPError('401 Client Error: Unauthorized for url: https://api.smith.langchain.com/runs/multipart', '{\"detail\":\"Invalid token\"}')trace=dc4398a6-dca6-4196-b60e-64551126ee0a,id=dc4398a6-dca6-4196-b60e-64551126ee0a; trace=dc4398a6-dca6-4196-b60e-64551126ee0a,id=964f3df4-ecbf-49dc-8a30-5e9e44469030; trace=dc4398a6-dca6-4196-b60e-64551126ee0a,id=d068f2eb-e94a-4ab2-a74d-b80a78646763; trace=dc4398a6-dca6-4196-b60e-64551126ee0a,id=929f3f08-a94b-499f-9f56-42b2dcbcaace; trace=dc4398a6-dca6-4196-b60e-64551126ee0a,id=f2c2ca8c-489c-4987-be0f-da64b9a73b43; trace=dc4398a6-dca6-4196-b60e-64551126ee0a,id=660eb13a-785f-4357-8a6a-47923a92e48b\n"
          ]
        },
        {
          "output_type": "stream",
          "name": "stdout",
          "text": [
            "[AIMessage(content=\"That's wonderful to hear! I'm glad you're having a happy day.  Is there anything in particular that's making you happy?\\n\", additional_kwargs={}, response_metadata={'prompt_feedback': {'block_reason': 0, 'safety_ratings': []}, 'finish_reason': 'STOP', 'safety_ratings': []}, id='run-660eb13a-785f-4357-8a6a-47923a92e48b-0', usage_metadata={'input_tokens': 7, 'output_tokens': 33, 'total_tokens': 40, 'input_token_details': {'cache_read': 0}})]\n"
          ]
        },
        {
          "output_type": "stream",
          "name": "stderr",
          "text": [
            "WARNING:langsmith.client:Failed to multipart ingest runs: langsmith.utils.LangSmithAuthError: Authentication failed for https://api.smith.langchain.com/runs/multipart. HTTPError('401 Client Error: Unauthorized for url: https://api.smith.langchain.com/runs/multipart', '{\"detail\":\"Invalid token\"}')trace=dc4398a6-dca6-4196-b60e-64551126ee0a,id=2e7ab81a-2d15-48b3-b493-04e43e200377; trace=dc4398a6-dca6-4196-b60e-64551126ee0a,id=dc4398a6-dca6-4196-b60e-64551126ee0a; trace=dc4398a6-dca6-4196-b60e-64551126ee0a,id=f2c2ca8c-489c-4987-be0f-da64b9a73b43; trace=dc4398a6-dca6-4196-b60e-64551126ee0a,id=660eb13a-785f-4357-8a6a-47923a92e48b\n"
          ]
        }
      ]
    },
    {
      "cell_type": "code",
      "source": [
        "def streamupdater(userinput: str):\n",
        "  for event in vG.stream({\"messages\":[(\"user\", userinput)]}):\n",
        "      for value in event.values():\n",
        "        print(\"Assistant : >> \",value[\"messages\"][-1].content)\n",
        "\n",
        "\n",
        "while True:\n",
        "  try:\n",
        "      userinput = input(\"User: \")\n",
        "      if userinput.lower()  == \"exit\":\n",
        "          break\n",
        "      streamupdater(userinput)\n",
        "  except KeyboardInterrupt:\n",
        "      break"
      ],
      "metadata": {
        "colab": {
          "base_uri": "https://localhost:8080/"
        },
        "id": "-48uF9Jk8cfl",
        "outputId": "5f16cced-2e93-4917-d7ac-8072ef40cc9b"
      },
      "execution_count": 107,
      "outputs": [
        {
          "name": "stdout",
          "output_type": "stream",
          "text": [
            "User: how the world is today?\n"
          ]
        },
        {
          "output_type": "stream",
          "name": "stderr",
          "text": [
            "WARNING:langsmith.client:Failed to multipart ingest runs: langsmith.utils.LangSmithAuthError: Authentication failed for https://api.smith.langchain.com/runs/multipart. HTTPError('401 Client Error: Unauthorized for url: https://api.smith.langchain.com/runs/multipart', '{\"detail\":\"Invalid token\"}')trace=3a19e005-1f65-494c-bedf-2caac4a2cb84,id=3a19e005-1f65-494c-bedf-2caac4a2cb84; trace=3a19e005-1f65-494c-bedf-2caac4a2cb84,id=4027b1f8-cfbd-411e-a7be-086a3f983e16; trace=3a19e005-1f65-494c-bedf-2caac4a2cb84,id=ca043eb1-379f-454e-b6e1-1bc932c63493; trace=3a19e005-1f65-494c-bedf-2caac4a2cb84,id=304cea48-8187-4ea9-9d72-db33fe60468f; trace=3a19e005-1f65-494c-bedf-2caac4a2cb84,id=4a278371-b8ee-441b-ae88-c26746026e20; trace=3a19e005-1f65-494c-bedf-2caac4a2cb84,id=bae244ea-005a-4a61-af86-4a7402905b79\n"
          ]
        },
        {
          "output_type": "stream",
          "name": "stdout",
          "text": [
            "Assistant : >>  The world today is a complex and multifaceted place, characterized by a mix of positive and negative trends.  There's no single answer to how it \"is,\" as different aspects of global society present vastly different pictures.  Here are some key areas:\n",
            "\n",
            "**Positive Trends:**\n",
            "\n",
            "* **Technological advancements:**  Rapid progress in areas like artificial intelligence, renewable energy, and medicine continues to offer potential solutions to global challenges.\n",
            "* **Increased global interconnectedness:**  While presenting challenges, improved communication and transportation have fostered collaboration and cultural exchange.\n",
            "* **Growing awareness of social issues:**  Issues like climate change, inequality, and human rights are receiving increasing attention and prompting action, albeit often insufficient.\n",
            "* **Economic growth in some regions:**  Certain parts of the world are experiencing significant economic development and improved living standards.\n",
            "\n",
            "\n",
            "**Negative Trends:**\n",
            "\n",
            "* **Climate change:**  The effects of climate change are becoming increasingly severe, with rising sea levels, extreme weather events, and biodiversity loss posing major threats.\n",
            "* **Geopolitical instability:**  Conflicts, tensions, and power struggles between nations are prevalent, leading to humanitarian crises and economic uncertainty.\n",
            "* **Economic inequality:**  The gap between rich and poor continues to widen both within and between countries, leading to social unrest and instability.\n",
            "* **Pandemics and health crises:** The COVID-19 pandemic highlighted the vulnerability of global systems to infectious diseases and the need for improved public health infrastructure.\n",
            "* **Food insecurity:**  Climate change, conflict, and economic instability are contributing to widespread food shortages and malnutrition.\n",
            "\n",
            "\n",
            "**In short:** The world today is a dynamic place facing significant challenges, but also possessing the potential for progress through innovation, cooperation, and a commitment to addressing global issues.  The overall picture is nuanced and depends heavily on the perspective and location from which it is viewed.  To understand the \"how\" requires examining specific regions, issues, and trends in detail.\n",
            "\n"
          ]
        },
        {
          "output_type": "stream",
          "name": "stderr",
          "text": [
            "WARNING:langsmith.client:Failed to multipart ingest runs: langsmith.utils.LangSmithAuthError: Authentication failed for https://api.smith.langchain.com/runs/multipart. HTTPError('401 Client Error: Unauthorized for url: https://api.smith.langchain.com/runs/multipart', '{\"detail\":\"Invalid token\"}')trace=3a19e005-1f65-494c-bedf-2caac4a2cb84,id=5c7adc02-21d3-4e6b-819f-c0b1bf435aba; trace=3a19e005-1f65-494c-bedf-2caac4a2cb84,id=4a278371-b8ee-441b-ae88-c26746026e20; trace=3a19e005-1f65-494c-bedf-2caac4a2cb84,id=bae244ea-005a-4a61-af86-4a7402905b79; trace=3a19e005-1f65-494c-bedf-2caac4a2cb84,id=3a19e005-1f65-494c-bedf-2caac4a2cb84\n"
          ]
        },
        {
          "name": "stdout",
          "output_type": "stream",
          "text": [
            "User: any improvement from last day\n"
          ]
        },
        {
          "output_type": "stream",
          "name": "stderr",
          "text": [
            "WARNING:langsmith.client:Failed to multipart ingest runs: langsmith.utils.LangSmithAuthError: Authentication failed for https://api.smith.langchain.com/runs/multipart. HTTPError('401 Client Error: Unauthorized for url: https://api.smith.langchain.com/runs/multipart', '{\"detail\":\"Invalid token\"}')trace=280a8944-7b66-4353-88a5-9a87eb555626,id=280a8944-7b66-4353-88a5-9a87eb555626; trace=280a8944-7b66-4353-88a5-9a87eb555626,id=af195328-a68b-4190-9bbe-a4e76cb304a6; trace=280a8944-7b66-4353-88a5-9a87eb555626,id=1f2e3113-ffbb-49c2-bcdf-bc9ac4595649; trace=280a8944-7b66-4353-88a5-9a87eb555626,id=2d2daa7b-db98-439e-b0e8-bcf954a7880d; trace=280a8944-7b66-4353-88a5-9a87eb555626,id=cfe3b696-5bb0-48df-910d-ede14aa20d89; trace=280a8944-7b66-4353-88a5-9a87eb555626,id=930ad522-6647-4cd0-bdaa-085164a9aa7b\n"
          ]
        },
        {
          "output_type": "stream",
          "name": "stdout",
          "text": [
            "Assistant : >>  Please provide me with some context!  I need to know what happened yesterday to tell you if there's been any improvement today.  For example, tell me:\n",
            "\n",
            "* **What are we measuring?** (e.g., my mood, the weather, my project progress, a stock price)\n",
            "* **What was the situation yesterday?** (e.g., I felt sad, it was raining, the project was behind schedule, the stock price dropped)\n",
            "\n",
            "Once I have this information, I can help you assess whether there's been any improvement.\n",
            "\n"
          ]
        },
        {
          "output_type": "stream",
          "name": "stderr",
          "text": [
            "WARNING:langsmith.client:Failed to multipart ingest runs: langsmith.utils.LangSmithAuthError: Authentication failed for https://api.smith.langchain.com/runs/multipart. HTTPError('401 Client Error: Unauthorized for url: https://api.smith.langchain.com/runs/multipart', '{\"detail\":\"Invalid token\"}')trace=280a8944-7b66-4353-88a5-9a87eb555626,id=2cf230ec-724b-4b9e-9d12-96721b58fe61; trace=280a8944-7b66-4353-88a5-9a87eb555626,id=cfe3b696-5bb0-48df-910d-ede14aa20d89; trace=280a8944-7b66-4353-88a5-9a87eb555626,id=930ad522-6647-4cd0-bdaa-085164a9aa7b; trace=280a8944-7b66-4353-88a5-9a87eb555626,id=280a8944-7b66-4353-88a5-9a87eb555626\n"
          ]
        },
        {
          "name": "stdout",
          "output_type": "stream",
          "text": [
            "User: ok, let me consider through regions\n"
          ]
        },
        {
          "output_type": "stream",
          "name": "stderr",
          "text": [
            "WARNING:langsmith.client:Failed to multipart ingest runs: langsmith.utils.LangSmithAuthError: Authentication failed for https://api.smith.langchain.com/runs/multipart. HTTPError('401 Client Error: Unauthorized for url: https://api.smith.langchain.com/runs/multipart', '{\"detail\":\"Invalid token\"}')trace=4cb88f61-01e7-4a04-af9b-8b8247dfa4e7,id=4cb88f61-01e7-4a04-af9b-8b8247dfa4e7; trace=4cb88f61-01e7-4a04-af9b-8b8247dfa4e7,id=7f8c980d-a885-4fee-9299-36201a3a38fa; trace=4cb88f61-01e7-4a04-af9b-8b8247dfa4e7,id=38717514-fe0d-46e9-8e17-910b7d5ad5ff; trace=4cb88f61-01e7-4a04-af9b-8b8247dfa4e7,id=aba1268f-34b6-4552-bd99-331f4775bb51; trace=4cb88f61-01e7-4a04-af9b-8b8247dfa4e7,id=28cbefbf-5e0a-4a9d-ba89-b632def900ac; trace=4cb88f61-01e7-4a04-af9b-8b8247dfa4e7,id=79fee538-4f19-4bf4-bc23-fe0959544d6e\n"
          ]
        },
        {
          "output_type": "stream",
          "name": "stdout",
          "text": [
            "Assistant : >>  Okay, I understand.  Please tell me about the regions you'd like to consider.  To help me understand your request, please provide more information, such as:\n",
            "\n",
            "* **What kind of regions?**  Are these geographical regions (countries, states, provinces, counties, etc.)?  Are they regions defined by other characteristics (economic zones, climate zones, political affiliations, etc.)?\n",
            "* **What are you considering *about* these regions?** Are you comparing them?  Analyzing them?  Making decisions based on them?  What aspects are important? (e.g., population, GDP, climate, resources)\n",
            "* **What is your goal?** What are you hoping to achieve by considering these regions?\n",
            "\n",
            "The more detail you give me, the better I can assist you.\n",
            "\n"
          ]
        },
        {
          "output_type": "stream",
          "name": "stderr",
          "text": [
            "WARNING:langsmith.client:Failed to multipart ingest runs: langsmith.utils.LangSmithAuthError: Authentication failed for https://api.smith.langchain.com/runs/multipart. HTTPError('401 Client Error: Unauthorized for url: https://api.smith.langchain.com/runs/multipart', '{\"detail\":\"Invalid token\"}')trace=4cb88f61-01e7-4a04-af9b-8b8247dfa4e7,id=15c7c9d5-cf2c-4344-b441-101b4c00044e; trace=4cb88f61-01e7-4a04-af9b-8b8247dfa4e7,id=79fee538-4f19-4bf4-bc23-fe0959544d6e; trace=4cb88f61-01e7-4a04-af9b-8b8247dfa4e7,id=28cbefbf-5e0a-4a9d-ba89-b632def900ac; trace=4cb88f61-01e7-4a04-af9b-8b8247dfa4e7,id=4cb88f61-01e7-4a04-af9b-8b8247dfa4e7\n"
          ]
        },
        {
          "name": "stdout",
          "output_type": "stream",
          "text": [
            "User: I am in asia try from here\n"
          ]
        },
        {
          "output_type": "stream",
          "name": "stderr",
          "text": [
            "WARNING:langsmith.client:Failed to multipart ingest runs: langsmith.utils.LangSmithAuthError: Authentication failed for https://api.smith.langchain.com/runs/multipart. HTTPError('401 Client Error: Unauthorized for url: https://api.smith.langchain.com/runs/multipart', '{\"detail\":\"Invalid token\"}')trace=0e395da2-81a9-4604-b633-8950dbb3c1a1,id=0e395da2-81a9-4604-b633-8950dbb3c1a1; trace=0e395da2-81a9-4604-b633-8950dbb3c1a1,id=6942c567-c05e-4bbd-ad2a-0c017caaa271; trace=0e395da2-81a9-4604-b633-8950dbb3c1a1,id=a798863e-84f4-4f60-a280-d85aa1b1e446; trace=0e395da2-81a9-4604-b633-8950dbb3c1a1,id=8598dbe9-b4b8-4c1c-ba04-1cd9dad58a94; trace=0e395da2-81a9-4604-b633-8950dbb3c1a1,id=63bfef9d-a9d6-4207-9f67-b7909a146987; trace=0e395da2-81a9-4604-b633-8950dbb3c1a1,id=2f4d78e2-1760-4ddc-87d1-3ea01a219002\n"
          ]
        },
        {
          "output_type": "stream",
          "name": "stdout",
          "text": [
            "Assistant : >>  Please tell me what you'd like to do or know.  Knowing you're in Asia helps, but I need more information to assist you.  For example, are you looking for:\n",
            "\n",
            "* **Information about a specific country or region in Asia?** (e.g., \"Tell me about the best hiking trails in Nepal.\")\n",
            "* **Travel advice?** (e.g., \"What are the visa requirements for visiting Thailand?\")\n",
            "* **Local recommendations?** (e.g., \"What are some good restaurants in Tokyo?\")\n",
            "* **Help with translation?** (e.g., \"Translate 'Hello' into Mandarin.\")\n",
            "* **Something else entirely?**\n",
            "\n",
            "The more details you provide, the better I can help.\n",
            "\n"
          ]
        },
        {
          "output_type": "stream",
          "name": "stderr",
          "text": [
            "WARNING:langsmith.client:Failed to multipart ingest runs: langsmith.utils.LangSmithAuthError: Authentication failed for https://api.smith.langchain.com/runs/multipart. HTTPError('401 Client Error: Unauthorized for url: https://api.smith.langchain.com/runs/multipart', '{\"detail\":\"Invalid token\"}')trace=0e395da2-81a9-4604-b633-8950dbb3c1a1,id=e4d4fe98-762d-4562-a1e4-f16fcc737f3d; trace=0e395da2-81a9-4604-b633-8950dbb3c1a1,id=63bfef9d-a9d6-4207-9f67-b7909a146987; trace=0e395da2-81a9-4604-b633-8950dbb3c1a1,id=2f4d78e2-1760-4ddc-87d1-3ea01a219002; trace=0e395da2-81a9-4604-b633-8950dbb3c1a1,id=0e395da2-81a9-4604-b633-8950dbb3c1a1\n"
          ]
        },
        {
          "name": "stdout",
          "output_type": "stream",
          "text": [
            "User: how asia is working hard, from the last year? countries those developed themselves?\n"
          ]
        },
        {
          "output_type": "stream",
          "name": "stderr",
          "text": [
            "WARNING:langsmith.client:Failed to multipart ingest runs: langsmith.utils.LangSmithAuthError: Authentication failed for https://api.smith.langchain.com/runs/multipart. HTTPError('401 Client Error: Unauthorized for url: https://api.smith.langchain.com/runs/multipart', '{\"detail\":\"Invalid token\"}')trace=f4f49c62-b1c8-4b72-a796-1580f0b208bb,id=f4f49c62-b1c8-4b72-a796-1580f0b208bb; trace=f4f49c62-b1c8-4b72-a796-1580f0b208bb,id=513ae116-5481-4723-a42c-792f97c2a117; trace=f4f49c62-b1c8-4b72-a796-1580f0b208bb,id=9075cbcf-6807-4471-af4b-15dca5c519d2; trace=f4f49c62-b1c8-4b72-a796-1580f0b208bb,id=0f493bca-8c05-40e4-987f-dd9b5cffcf0a; trace=f4f49c62-b1c8-4b72-a796-1580f0b208bb,id=6279eafa-ea60-49c8-87b6-cea926028451; trace=f4f49c62-b1c8-4b72-a796-1580f0b208bb,id=93a5f727-d51a-4eab-8003-c1a30235b1c8\n"
          ]
        },
        {
          "output_type": "stream",
          "name": "stdout",
          "text": [
            "Assistant : >>  Asia has seen significant economic and developmental activity over the past year, with varying degrees of success across different nations.  It's difficult to summarize the entire continent concisely, as experiences differ greatly based on factors like political stability, natural resources, and pre-existing infrastructure.  However, some trends and examples stand out:\n",
            "\n",
            "**Areas of significant progress and development:**\n",
            "\n",
            "* **Continued economic growth (in some areas):**  Despite global headwinds like inflation and the war in Ukraine, several Asian economies have shown continued, albeit sometimes slower, growth.  This is particularly true for some Southeast Asian nations driven by manufacturing and exports.  India, for example, continues to be a significant growth engine.\n",
            "\n",
            "* **Technological advancements:**  Many Asian countries are investing heavily in technology, particularly in areas like digital infrastructure, artificial intelligence, and renewable energy.  This is evident in the rise of tech hubs in countries like Singapore, South Korea, and India.\n",
            "\n",
            "* **Infrastructure development:**  Significant investments are being made in infrastructure projects across the continent, including transportation networks, energy grids, and digital connectivity.  China's Belt and Road Initiative, while controversial, continues to influence infrastructure development across the region.\n",
            "\n",
            "* **Focus on renewable energy:**  Many Asian countries are increasingly prioritizing renewable energy sources to address climate change and energy security concerns.  This is driven by both government policies and private investment.\n",
            "\n",
            "**Countries showing notable development (examples):**\n",
            "\n",
            "* **India:**  Continued strong economic growth, despite global challenges, driven by a large and growing domestic market and a young population.  Significant investments in infrastructure and technology are underway.\n",
            "\n",
            "* **Vietnam:**  Sustained economic growth fueled by manufacturing and exports, attracting significant foreign investment.\n",
            "\n",
            "* **Bangladesh:**  Experiencing rapid economic growth, driven by the ready-made garment industry and remittances.\n",
            "\n",
            "* **Singapore:**  Maintaining its position as a major financial and technological hub, with a strong focus on innovation and sustainability.\n",
            "\n",
            "* **South Korea:**  A technologically advanced nation continuing to innovate in areas like semiconductors and electronics.\n",
            "\n",
            "**Challenges remain:**\n",
            "\n",
            "It's crucial to acknowledge that not all of Asia is experiencing rapid development.  Many countries face significant challenges, including:\n",
            "\n",
            "* **Geopolitical instability:**  Regional tensions and conflicts continue to impact economic growth and stability in some areas.\n",
            "\n",
            "* **Inequality:**  Significant income inequality persists across many Asian nations, hindering inclusive growth.\n",
            "\n",
            "* **Climate change:**  Asia is highly vulnerable to the impacts of climate change, with many countries facing risks from rising sea levels, extreme weather events, and water scarcity.\n",
            "\n",
            "* **Supply chain disruptions:**  The global supply chain continues to be volatile, impacting many Asian economies reliant on exports.\n",
            "\n",
            "\n",
            "In conclusion, Asia's economic and developmental landscape is complex and multifaceted. While several countries are making significant strides, challenges remain.  The past year has seen a mix of progress and setbacks, with the overall picture varying considerably across different nations.  Focusing on specific countries provides a more nuanced understanding than a broad generalization about the entire continent.\n",
            "\n"
          ]
        },
        {
          "output_type": "stream",
          "name": "stderr",
          "text": [
            "WARNING:langsmith.client:Failed to multipart ingest runs: langsmith.utils.LangSmithAuthError: Authentication failed for https://api.smith.langchain.com/runs/multipart. HTTPError('401 Client Error: Unauthorized for url: https://api.smith.langchain.com/runs/multipart', '{\"detail\":\"Invalid token\"}')trace=f4f49c62-b1c8-4b72-a796-1580f0b208bb,id=dda01b54-34f2-439a-8761-cf47d289819a; trace=f4f49c62-b1c8-4b72-a796-1580f0b208bb,id=6279eafa-ea60-49c8-87b6-cea926028451; trace=f4f49c62-b1c8-4b72-a796-1580f0b208bb,id=93a5f727-d51a-4eab-8003-c1a30235b1c8; trace=f4f49c62-b1c8-4b72-a796-1580f0b208bb,id=f4f49c62-b1c8-4b72-a796-1580f0b208bb\n"
          ]
        },
        {
          "name": "stdout",
          "output_type": "stream",
          "text": [
            "User: what are the major challenges from pakistan,  those restrict it as lower as today?\n"
          ]
        },
        {
          "output_type": "stream",
          "name": "stderr",
          "text": [
            "WARNING:langsmith.client:Failed to multipart ingest runs: langsmith.utils.LangSmithAuthError: Authentication failed for https://api.smith.langchain.com/runs/multipart. HTTPError('401 Client Error: Unauthorized for url: https://api.smith.langchain.com/runs/multipart', '{\"detail\":\"Invalid token\"}')trace=e1620319-f7f8-4964-bc01-7d6174ac3499,id=e1620319-f7f8-4964-bc01-7d6174ac3499; trace=e1620319-f7f8-4964-bc01-7d6174ac3499,id=894d4dcb-b9db-4bba-9a67-96df35736418; trace=e1620319-f7f8-4964-bc01-7d6174ac3499,id=b5f79770-9f5d-4c70-9eab-d41b06aff1b8; trace=e1620319-f7f8-4964-bc01-7d6174ac3499,id=22d88a3c-d826-4413-bfdb-4eabc459099d; trace=e1620319-f7f8-4964-bc01-7d6174ac3499,id=723d3e1c-a171-41b7-b1ef-96d45d43d303; trace=e1620319-f7f8-4964-bc01-7d6174ac3499,id=edc89608-1cbb-4355-8cce-b6835dff6587\n"
          ]
        },
        {
          "output_type": "stream",
          "name": "stdout",
          "text": [
            "Assistant : >>  Pakistan faces a complex web of interconnected challenges that significantly hinder its development and keep it from achieving its potential.  These can be broadly categorized as:\n",
            "\n",
            "**1. Political Instability and Governance:**\n",
            "\n",
            "* **Weak democratic institutions:** Frequent changes in government, military interventions, and a lack of accountability weaken governance structures and impede long-term planning.\n",
            "* **Corruption:** Widespread corruption diverts resources, undermines public trust, and discourages foreign investment.\n",
            "* **Ethnic and sectarian tensions:**  Deep-seated ethnic and religious divisions fuel conflict, instability, and hinder national unity.  This manifests in various forms of violence and discrimination.\n",
            "* **Lack of rule of law:**  Ineffective law enforcement, a weak judiciary, and a lack of access to justice create insecurity and discourage investment.\n",
            "\n",
            "**2. Economic Challenges:**\n",
            "\n",
            "* **Poverty and inequality:** A large portion of the population lives in poverty, with a significant gap between the rich and the poor.  This limits human capital development and economic growth.\n",
            "* **Low economic growth:**  Despite periods of growth, Pakistan's economy is often volatile and struggles to create enough jobs for its rapidly growing population.\n",
            "* **Debt burden:**  High levels of external and internal debt constrain government spending on essential services like education and healthcare.\n",
            "* **Energy crisis:**  Chronic energy shortages hamper industrial production and economic activity.\n",
            "* **Infrastructure deficits:**  Poor infrastructure, including transportation, communication, and water management, increases costs and hinders economic development.\n",
            "* **Dependence on agriculture:**  The economy is heavily reliant on agriculture, which is vulnerable to climate change and fluctuating global prices.\n",
            "\n",
            "**3. Security Challenges:**\n",
            "\n",
            "* **Terrorism and extremism:**  Pakistan has faced decades of terrorism and extremism, which has destabilized the country, damaged its economy, and claimed countless lives.\n",
            "* **Internal security threats:**  Sectarian violence, ethnic conflicts, and insurgencies pose significant security challenges.\n",
            "* **Geopolitical tensions:**  Pakistan's complex relationship with neighboring countries, particularly India and Afghanistan, contributes to regional instability and security concerns.\n",
            "\n",
            "**4. Social Challenges:**\n",
            "\n",
            "* **Low literacy and education levels:**  A significant portion of the population lacks access to quality education, which limits human capital development and economic opportunities.\n",
            "* **Health challenges:**  Poor health outcomes, including high rates of maternal and child mortality, hinder human development.\n",
            "* **Gender inequality:**  Women face significant discrimination in many aspects of life, limiting their participation in the economy and society.\n",
            "* **Climate change vulnerability:**  Pakistan is highly vulnerable to the impacts of climate change, including floods, droughts, and heatwaves, which exacerbate existing challenges.\n",
            "\n",
            "\n",
            "These challenges are interconnected and mutually reinforcing. Addressing them requires a comprehensive and multi-faceted approach involving political reforms, economic diversification, improved governance, security sector reforms, and investments in human capital and infrastructure.  The lack of sustained progress in any one area significantly impacts the others, creating a cycle of underdevelopment.\n",
            "\n"
          ]
        },
        {
          "output_type": "stream",
          "name": "stderr",
          "text": [
            "WARNING:langsmith.client:Failed to multipart ingest runs: langsmith.utils.LangSmithAuthError: Authentication failed for https://api.smith.langchain.com/runs/multipart. HTTPError('401 Client Error: Unauthorized for url: https://api.smith.langchain.com/runs/multipart', '{\"detail\":\"Invalid token\"}')trace=e1620319-f7f8-4964-bc01-7d6174ac3499,id=875e1c86-1b05-49a8-a34c-23e4608499d9; trace=e1620319-f7f8-4964-bc01-7d6174ac3499,id=723d3e1c-a171-41b7-b1ef-96d45d43d303; trace=e1620319-f7f8-4964-bc01-7d6174ac3499,id=edc89608-1cbb-4355-8cce-b6835dff6587; trace=e1620319-f7f8-4964-bc01-7d6174ac3499,id=e1620319-f7f8-4964-bc01-7d6174ac3499\n"
          ]
        },
        {
          "name": "stdout",
          "output_type": "stream",
          "text": [
            "User: exit and thanks\n"
          ]
        },
        {
          "output_type": "stream",
          "name": "stderr",
          "text": [
            "WARNING:langsmith.client:Failed to multipart ingest runs: langsmith.utils.LangSmithAuthError: Authentication failed for https://api.smith.langchain.com/runs/multipart. HTTPError('401 Client Error: Unauthorized for url: https://api.smith.langchain.com/runs/multipart', '{\"detail\":\"Invalid token\"}')trace=eace0b83-2881-4be1-b421-f86687c86a04,id=eace0b83-2881-4be1-b421-f86687c86a04; trace=eace0b83-2881-4be1-b421-f86687c86a04,id=5f2a4079-a708-44e5-86d9-6b9056c8fbff; trace=eace0b83-2881-4be1-b421-f86687c86a04,id=57ccead9-84b3-4918-8bb5-f215e62332f4; trace=eace0b83-2881-4be1-b421-f86687c86a04,id=df39fb19-4ef8-4581-9fe7-569ba0593dbb; trace=eace0b83-2881-4be1-b421-f86687c86a04,id=a3be2d81-8806-4d00-9ed7-5c09c958b6d5; trace=eace0b83-2881-4be1-b421-f86687c86a04,id=9f40f0cc-e1f5-45a2-91ca-833632429864\n"
          ]
        },
        {
          "output_type": "stream",
          "name": "stdout",
          "text": [
            "Assistant : >>  Goodbye!\n",
            "\n"
          ]
        },
        {
          "output_type": "stream",
          "name": "stderr",
          "text": [
            "WARNING:langsmith.client:Failed to multipart ingest runs: langsmith.utils.LangSmithAuthError: Authentication failed for https://api.smith.langchain.com/runs/multipart. HTTPError('401 Client Error: Unauthorized for url: https://api.smith.langchain.com/runs/multipart', '{\"detail\":\"Invalid token\"}')trace=eace0b83-2881-4be1-b421-f86687c86a04,id=28220958-0a0a-4c7a-9898-a9369ba2861e; trace=eace0b83-2881-4be1-b421-f86687c86a04,id=eace0b83-2881-4be1-b421-f86687c86a04; trace=eace0b83-2881-4be1-b421-f86687c86a04,id=a3be2d81-8806-4d00-9ed7-5c09c958b6d5; trace=eace0b83-2881-4be1-b421-f86687c86a04,id=9f40f0cc-e1f5-45a2-91ca-833632429864\n"
          ]
        },
        {
          "name": "stdout",
          "output_type": "stream",
          "text": [
            "User: exit\n"
          ]
        }
      ]
    }
  ]
}